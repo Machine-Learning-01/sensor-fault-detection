{
 "cells": [
  {
   "cell_type": "code",
   "execution_count": 1,
   "id": "8ec2a8ba-2fb9-48e2-9edf-6600f4edf3dd",
   "metadata": {},
   "outputs": [],
   "source": [
    "from sensor.entity.config_entity import TrainingPipelineConfig,DataIngestionConfig,DataValidationConfig,DataTransformationConfig,ModelTrainerConfig,ModelEvaluationConfig,ModelPusherConfig"
   ]
  },
  {
   "cell_type": "code",
   "execution_count": 3,
   "id": "ac696f5f-671c-44bd-990f-e5113e089dcb",
   "metadata": {},
   "outputs": [],
   "source": [
    "data = DataIngestionConfig()"
   ]
  },
  {
   "cell_type": "code",
   "execution_count": 4,
   "id": "7a26882d-1922-4d81-be71-409f859223f5",
   "metadata": {},
   "outputs": [
    {
     "data": {
      "text/plain": [
       "'artifact/10_10_2022_16_56_20/data_ingestion/feature_store/sensor.csv'"
      ]
     },
     "execution_count": 4,
     "metadata": {},
     "output_type": "execute_result"
    }
   ],
   "source": [
    "data.feature_store_file_path"
   ]
  },
  {
   "cell_type": "code",
   "execution_count": 5,
   "id": "9ceb4cb9-77d2-45d8-9426-e84299e00db4",
   "metadata": {},
   "outputs": [
    {
     "data": {
      "text/plain": [
       "{'data_ingestion_dir': 'artifact/10_10_2022_16_56_20/data_ingestion',\n",
       " 'feature_store_file_path': 'artifact/10_10_2022_16_56_20/data_ingestion/feature_store/sensor.csv',\n",
       " 'training_file_path': 'artifact/10_10_2022_16_56_20/data_ingestion/ingested/train.csv',\n",
       " 'testing_file_path': 'artifact/10_10_2022_16_56_20/data_ingestion/ingested/test.csv'}"
      ]
     },
     "execution_count": 5,
     "metadata": {},
     "output_type": "execute_result"
    }
   ],
   "source": [
    "data"
   ]
  },
  {
   "cell_type": "code",
   "execution_count": 6,
   "id": "70528418-75d2-48c3-87a4-5ddba15490f2",
   "metadata": {},
   "outputs": [],
   "source": [
    "class Demo:\n",
    "    \n",
    "    def __init__(self):\n",
    "        name=\"Avnish\""
   ]
  },
  {
   "cell_type": "code",
   "execution_count": 7,
   "id": "101cff36-fca4-4b01-b540-fa6ec5c4a5a4",
   "metadata": {},
   "outputs": [
    {
     "data": {
      "text/plain": [
       "<__main__.Demo at 0x7f0975240760>"
      ]
     },
     "execution_count": 7,
     "metadata": {},
     "output_type": "execute_result"
    }
   ],
   "source": [
    "Demo()"
   ]
  },
  {
   "cell_type": "code",
   "execution_count": 8,
   "id": "7ed0fc1e-3945-4e3a-bd56-7811efc2b175",
   "metadata": {},
   "outputs": [
    {
     "data": {
      "text/plain": [
       "DataIngestionConfig(data_ingestion_dir='artifact/10_10_2022_16_56_20/data_ingestion', feature_store_file_path='artifact/10_10_2022_16_56_20/data_ingestion/feature_store/sensor.csv', training_file_path='artifact/10_10_2022_16_56_20/data_ingestion/ingested/train.csv', testing_file_path='artifact/10_10_2022_16_56_20/data_ingestion/ingested/test.csv')"
      ]
     },
     "execution_count": 8,
     "metadata": {},
     "output_type": "execute_result"
    }
   ],
   "source": [
    "data"
   ]
  },
  {
   "cell_type": "code",
   "execution_count": null,
   "id": "f8716b2f-3d6a-4789-9fd5-ab8b698290af",
   "metadata": {},
   "outputs": [],
   "source": []
  }
 ],
 "metadata": {
  "kernelspec": {
   "display_name": "Python 3 (ipykernel)",
   "language": "python",
   "name": "python3"
  },
  "language_info": {
   "codemirror_mode": {
    "name": "ipython",
    "version": 3
   },
   "file_extension": ".py",
   "mimetype": "text/x-python",
   "name": "python",
   "nbconvert_exporter": "python",
   "pygments_lexer": "ipython3",
   "version": "3.8.13"
  }
 },
 "nbformat": 4,
 "nbformat_minor": 5
}
